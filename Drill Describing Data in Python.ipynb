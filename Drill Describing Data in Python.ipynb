{
 "cells": [
  {
   "cell_type": "code",
   "execution_count": 6,
   "metadata": {},
   "outputs": [],
   "source": [
    "import pandas as pd\n",
    "import numpy as np\n",
    "import statistics \n",
    "# blank data frame.\n",
    "df = pd.DataFrame()\n",
    "# data\n",
    "df['age'] = [14,12,11,10,8,6,8]"
   ]
  },
  {
   "cell_type": "markdown",
   "metadata": {},
   "source": [
    "**Question #1**\n",
    "\n",
    "Greg - 14\n",
    "Marcia - 12\n",
    "Peter - 11\n",
    "Jan - 10\n",
    "Bobby - 8\n",
    "Cindy - 6 \n",
    "Oliver - 8\n",
    "\n",
    "Mean = (14+12+11+10+8+6+8)/7 =  9.85\n",
    "\n",
    "Median = 6,8,8,10,11,12,14 = 10 \n",
    "\n",
    "Mode = 8 (occurs most frequently) \n",
    "\n",
    "Sample Variance \n",
    "=((6-10)+(8-10)+(8-10)+(10-10)+(11-10)+(12-10)+(14-10))^2 / (7-1)\n",
    "=(-4+-2+-2+0+1+2+4 )^2/(7-1)\n",
    "=(16+4+4+0+1+4+16) /(7-1) \n",
    "= 45/(7-1)\n",
    "= 7.5 \n",
    "\n",
    "Population Variance  \n",
    "=45/7= 6.42 \n",
    "\n",
    "Sample Standard Deviation  \n",
    "= sqroot(7.5)\n",
    "=2.74 \n",
    "\n",
    "Population Standard Deviation \n",
    "=sqroot(6.42)\n",
    "=2.53 \n",
    "\n",
    "Sample Standard Error \n",
    "= 2.74/ sqroot(7)\n",
    "= 1.04 \n",
    "\n",
    "Population Standard Error \n",
    "=2.53/sqroot(7) \n",
    "=.96 \n"
   ]
  },
  {
   "cell_type": "code",
   "execution_count": 54,
   "metadata": {},
   "outputs": [
    {
     "name": "stdout",
     "output_type": "stream",
     "text": [
      "9.857142857142858\n",
      "10.0\n",
      "8\n",
      "6.408163265306122\n",
      "2.531435020952764\n",
      "1.0334540197243194\n"
     ]
    }
   ],
   "source": [
    "print(np.mean(df['age']))\n",
    "print(np.median(df['age']))\n",
    "print(statistics.mode(df['age']))\n",
    "print(np.var(df['age']))\n",
    "standard_dev = (np.std(df['age']))\n",
    "print(standard_dev)\n",
    "print(standard_dev/ np.sqrt(len(df['age'])-1))"
   ]
  },
  {
   "cell_type": "markdown",
   "metadata": {},
   "source": [
    "**Question #2**\n",
    "\n",
    "*For central tendency, I would choose the mean as it gives us an average of the data set we’re working with and best represents all of the numbers in the set. For the estimate of variance, I would choose the standard deviation as it gives us a good idea on how far away we are from the mean of the sample set with the other data points, in this case it appears the numbers are relatively close to one another with the lower standard deviation we have calculated.*"
   ]
  },
  {
   "cell_type": "markdown",
   "metadata": {},
   "source": [
    "**Question #3**\n",
    "\n",
    "Greg - 14 \n",
    "Marcia - 12\n",
    "Peter - 11\n",
    "Jan - 10\n",
    "Bobby - 8\n",
    "Cindy - 7 \n",
    "Oliver - 8\n",
    "\n",
    "Mean = (14+12+11+10+8+7+8)/7 =  10 \n",
    "\n",
    "Median = 7,8,8,10,11,12,14 = 10 \n",
    "\n",
    "Mode = 8 (occurs most frequently) \n",
    "\n",
    "Sample Variance \n",
    "=((7-10)+(8-10)+(8-10)+(10-10)+(11-10)+(12-10)+(14-10))^2 / (7-1)\n",
    "=(-3+-2+-2+0+1+2+4 )^2/(7-1)\n",
    "=(9+4+4+0+1+4+16) /(7-1) \n",
    "= 45/(7-1)\n",
    "= 6.33\n",
    "\n",
    "Population Variance  \n",
    "=45/7= 5.42 \n",
    "\n",
    "Sample Standard Deviation  \n",
    "= sqroot(6.33)\n",
    "=2.52\n",
    "\n",
    "Population Standard Deviation \n",
    "=sqroot(5.42)\n",
    "=2.29\n",
    "\n",
    "Sample Standard Error \n",
    "= 2.52/ sqroot(7)\n",
    "= .95\n",
    "\n",
    "Population Standard Error \n",
    "=2.29/sqroot(7) \n",
    "=.87\n",
    "\n",
    "*Everything changed other than the median and the mode.*"
   ]
  },
  {
   "cell_type": "code",
   "execution_count": 14,
   "metadata": {},
   "outputs": [],
   "source": [
    "df['updated'] = [14,12,11,10,8,7,8]"
   ]
  },
  {
   "cell_type": "code",
   "execution_count": 52,
   "metadata": {
    "scrolled": false
   },
   "outputs": [
    {
     "name": "stdout",
     "output_type": "stream",
     "text": [
      "10.0\n",
      "10.0\n",
      "8\n",
      "5.428571428571429\n",
      "2.32992949004287\n",
      "0.951189731211342\n"
     ]
    }
   ],
   "source": [
    "print(np.mean(df['updated']))\n",
    "print(np.median(df['updated']))\n",
    "print(statistics.mode(df['updated']))\n",
    "print(np.var(df['updated']))\n",
    "standard_dev = (np.std(df['updated']))\n",
    "print(standard_dev)\n",
    "print(standard_dev/ np.sqrt(len(df['updated'])-1))"
   ]
  },
  {
   "cell_type": "markdown",
   "metadata": {},
   "source": [
    "**Question #4**\n",
    "\n",
    "Greg - 14 \n",
    "Marcia - 12\n",
    "Peter - 11\n",
    "Jan - 10\n",
    "Bobby - 8\n",
    "Cindy - 7 \n",
    "Jessica - 1 \n",
    "\n",
    "Mean = (14+12+11+10+8+7+1)/7 =  9\n",
    "\n",
    "Median = 1,7,8,10,11,12,14 = 10\n",
    "\n",
    "Mode = None \n",
    "\n",
    "Sample Variance \n",
    "=((7-10)+(1-10)+(8-10)+(10-10)+(11-10)+(12-10)+(14-10))^2 / (7-1)\n",
    "=(-3+-9+-2+0+1+2+4 )^2/(7-1)\n",
    "=(9+81+4+0+1+4+16) /(7-1) \n",
    "= 115/(7-1)\n",
    "= 19.17\n",
    "\n",
    "Population Variance  \n",
    "=115/7= 16.42\n",
    "\n",
    "Sample Standard Deviation  \n",
    "= sqroot(19.17)\n",
    "=4.38\n",
    "\n",
    "Population Standard Deviation \n",
    "=sqroot(16.42)\n",
    "=4.05 \n",
    "\n",
    "Sample Standard Error \n",
    "= 4.38/ sqroot(7)\n",
    "= 1.67\n",
    "\n",
    "Population Standard Error \n",
    "=4.05/sqroot(7) \n",
    "=1.53\n",
    "\n",
    "*I would maybe now choose to show the standard error instead of the standard deviation to showcase the uncertainty in the sample mean, as now we have a larger differentiation in ages within the population.*\n"
   ]
  },
  {
   "cell_type": "code",
   "execution_count": 22,
   "metadata": {},
   "outputs": [],
   "source": [
    "df['updated2'] = [14,12,11,10,8,7,1]"
   ]
  },
  {
   "cell_type": "code",
   "execution_count": 53,
   "metadata": {},
   "outputs": [
    {
     "name": "stdout",
     "output_type": "stream",
     "text": [
      "9.0\n",
      "10.0\n",
      "No mode exists\n",
      "15.428571428571429\n",
      "3.927922024247863\n",
      "1.6035674514745466\n"
     ]
    }
   ],
   "source": [
    "print(np.mean(df['updated2']))\n",
    "print(np.median(df['updated2']))\n",
    "print('No mode exists')\n",
    "print(np.var(df['updated2']))\n",
    "standard_dev = (np.std(df['updated2']))\n",
    "print(standard_dev)\n",
    "print(standard_dev/ np.sqrt(len(df['updated2'])-1))"
   ]
  },
  {
   "cell_type": "markdown",
   "metadata": {},
   "source": [
    "**Question #5**\n",
    "\n",
    "TV Guide 20%\n",
    "Entertainment Weekly 23% \n",
    "Pop Culture Today 17% \n",
    "SciPhi Phanatic 5%\n",
    "\n",
    "*Taking the mean of all four woulld be 16.25%, however, sciphi is a more limited population survey so the data is slightly skewed. If we remove this point from the average it would be around 20% of the population.*\n"
   ]
  },
  {
   "cell_type": "code",
   "execution_count": null,
   "metadata": {},
   "outputs": [],
   "source": []
  }
 ],
 "metadata": {
  "kernelspec": {
   "display_name": "Python 3",
   "language": "python",
   "name": "python3"
  },
  "language_info": {
   "codemirror_mode": {
    "name": "ipython",
    "version": 3
   },
   "file_extension": ".py",
   "mimetype": "text/x-python",
   "name": "python",
   "nbconvert_exporter": "python",
   "pygments_lexer": "ipython3",
   "version": "3.7.0"
  }
 },
 "nbformat": 4,
 "nbformat_minor": 2
}
