{
 "cells": [
  {
   "cell_type": "code",
   "execution_count": 1,
   "metadata": {},
   "outputs": [],
   "source": [
    "import numpy as np\n",
    "import pandas as pd\n",
    "import matplotlib.pyplot as plt\n",
    "%matplotlib inline"
   ]
  },
  {
   "cell_type": "markdown",
   "metadata": {},
   "source": [
    "# Graph 1: Negative Binomial"
   ]
  },
  {
   "cell_type": "code",
   "execution_count": 89,
   "metadata": {},
   "outputs": [
    {
     "data": {
      "image/png": "[encoded data removed]",
      "text/plain": [
       "<Figure size 432x288 with 1 Axes>"
      ]
     },
     "metadata": {
      "needs_background": "light"
     },
     "output_type": "display_data"
    }
   ],
   "source": [
    "negative_binomial = np.random.negative_binomial(1, .35, 100)\n",
    "plt.hist(negative_binomial)\n",
    "plt.axvline(negative_binomial.mean(), color='y', linestyle='solid', linewidth=1)\n",
    "plt.axvline(negative_binomial.mean() + negative_binomial.std(), color='y', linestyle='dashed', linewidth=1)\n",
    "plt.axvline(negative_binomial.mean() - negative_binomial.std(), color = 'y', linestyle= 'dashed', linewidth=1)\n",
    "plt.show()"
   ]
  },
  {
   "cell_type": "code",
   "execution_count": 90,
   "metadata": {},
   "outputs": [
    {
     "name": "stdout",
     "output_type": "stream",
     "text": [
      "2.1\n",
      "2.4392621835300936\n"
     ]
    }
   ],
   "source": [
    "print(np.mean(negative_binomial))\n",
    "print(np.std(negative_binomial))"
   ]
  },
  {
   "cell_type": "markdown",
   "metadata": {},
   "source": [
    "Brief Info: Negative binomial is a distribution of the number of trials needed to get the rth success (fixed number of successes in a bernoulli trial), binomial is number of successes in a fixed number of independent bernoulli trials. \n",
    " \n",
    "The requirements are n or number of successes, and p as probability to achieve those successes. \n",
    "\n",
    "In this case, the graph represents a longtail curve, showcasing the number of trials neccessary to get to the rth success decreases over time. The mean here gives us an idea on average how many failures we will have before we can acheive success, while the standard deviation show's us how far we will then stray from that number. It isn't very usefull when subtracting the standard deviation from the mean, as in this case, our curve peaks towards the begining of our trials, and then curves downward, thus, going backwards from the mean doesn't make much of any sense. "
   ]
  },
  {
   "cell_type": "markdown",
   "metadata": {},
   "source": [
    "# Graph 2: Beta"
   ]
  },
  {
   "cell_type": "code",
   "execution_count": 101,
   "metadata": {
    "scrolled": true
   },
   "outputs": [
    {
     "data": {
      "image/png": "[encoded data removed]",
      "text/plain": [
       "<Figure size 432x288 with 1 Axes>"
      ]
     },
     "metadata": {
      "needs_background": "light"
     },
     "output_type": "display_data"
    }
   ],
   "source": [
    "beta = np.random.beta(25,.5,100)\n",
    "plt.hist(beta)\n",
    "plt.axvline(beta.mean(), color='y', linestyle='solid', linewidth=1)\n",
    "plt.axvline(beta.mean() + beta.std(), color = 'y', linestyle='dashed', linewidth=1)\n",
    "plt.axvline(beta.mean() - beta.std(), color = 'y', linestyle='dashed', linewidth=1)\n",
    "plt.show()"
   ]
  },
  {
   "cell_type": "code",
   "execution_count": 102,
   "metadata": {},
   "outputs": [
    {
     "name": "stdout",
     "output_type": "stream",
     "text": [
      "0.9806097025707726\n",
      "0.024519903435492513\n"
     ]
    }
   ],
   "source": [
    "print(np.mean(beta))\n",
    "print(np.std(beta))"
   ]
  },
  {
   "cell_type": "markdown",
   "metadata": {},
   "source": [
    "Breif Info: Bounded, similar to that of a uniform distribution, just not flat. Used as a probability for probabilities. It uses prior knowledge about probability of something occuring, and can specify a large range of beliefs. \n",
    "\n",
    "The graph here is similar to that of a growth curve. The mean  is right at the tail end of the graph, but isn't very helpful in understanding the layout, as there is a spike towards the very end, and a slow curve upwards towards the begining. Given just the mean and standard deviation, we woulnd't beable to depict this graph's layout. "
   ]
  },
  {
   "cell_type": "markdown",
   "metadata": {},
   "source": [
    "# Graph 3: Geometric"
   ]
  },
  {
   "cell_type": "code",
   "execution_count": 43,
   "metadata": {
    "scrolled": false
   },
   "outputs": [
    {
     "data": {
      "text/plain": [
       "<matplotlib.lines.Line2D at 0x473c470>"
      ]
     },
     "execution_count": 43,
     "metadata": {},
     "output_type": "execute_result"
    },
    {
     "data": {
      "image/png": "[encoded data removed]",
      "text/plain": [
       "<Figure size 432x288 with 1 Axes>"
      ]
     },
     "metadata": {
      "needs_background": "light"
     },
     "output_type": "display_data"
    }
   ],
   "source": [
    "geometric = np.random.geometric(.45,100)\n",
    "plt.hist(geometric)\n",
    "plt.axvline(geometric.mean(), color='y', linestyle='solid', linewidth=1)\n",
    "plt.axvline(geometric.mean() + geometric.std(),color='y', linestyle='dashed', linewidth=1)\n",
    "plt.axvline(geometric.mean() - geometric.std(),color='y', linestyle='dashed', linewidth=1)\n"
   ]
  },
  {
   "cell_type": "code",
   "execution_count": 35,
   "metadata": {},
   "outputs": [
    {
     "name": "stdout",
     "output_type": "stream",
     "text": [
      "2.41\n",
      "1.9447107754110893\n"
     ]
    }
   ],
   "source": [
    "print(np.mean(geometric))\n",
    "print(np.std(geometric))"
   ]
  },
  {
   "cell_type": "markdown",
   "metadata": {},
   "source": [
    "Brief Info: the geometric distribution shows us the number of trials needed to get the first success in repeated independent Bernoulli trials. \n",
    "\n",
    "Similar to the negative binomial curve, the graph here represents a longtail curve, showcasing the number of times neccessary to get to the first success decreases as our trial number increases.  Again, mean here show's us that generally the we can achieve the first success earlier on, while the standard deviation show's us how far we will then stray from that number. It again, isn't very usefull when subtracting the standard deviation from the mean, as in this case, our curve starts at a peak towards the begining of our trials and then curves downward continously."
   ]
  },
  {
   "cell_type": "markdown",
   "metadata": {},
   "source": [
    "# Graph 4: Logistic"
   ]
  },
  {
   "cell_type": "code",
   "execution_count": 103,
   "metadata": {},
   "outputs": [
    {
     "data": {
      "text/plain": [
       "<matplotlib.lines.Line2D at 0xf3dad90>"
      ]
     },
     "execution_count": 103,
     "metadata": {},
     "output_type": "execute_result"
    },
    {
     "data": {
      "image/png": "[encoded data removed]",
      "text/plain": [
       "<Figure size 432x288 with 1 Axes>"
      ]
     },
     "metadata": {
      "needs_background": "light"
     },
     "output_type": "display_data"
    }
   ],
   "source": [
    "logistic = np.random.logistic(10, 1, 100)\n",
    "plt.hist(logistic)\n",
    "plt.axvline(logistic.mean(),color='y', linestyle='solid', linewidth=1)\n",
    "plt.axvline(logistic.mean() + logistic.std(),color='y', linestyle='dashed', linewidth=1)\n",
    "plt.axvline(logistic.mean() - logistic.std(),color='y', linestyle='dashed', linewidth=1)"
   ]
  },
  {
   "cell_type": "code",
   "execution_count": 104,
   "metadata": {},
   "outputs": [
    {
     "name": "stdout",
     "output_type": "stream",
     "text": [
      "9.771869796677782\n",
      "1.8431070758416395\n"
     ]
    }
   ],
   "source": [
    "print(np.mean(logistic))\n",
    "print(np.std(logistic))"
   ]
  },
  {
   "cell_type": "markdown",
   "metadata": {},
   "source": [
    "Brief Info: Used for growht and regression models. \n",
    "\n",
    "The graph appears similar to that of a normal distribution, in that the mean and the standard deviation can show us a great deal, however the tails extendfurther outward. "
   ]
  },
  {
   "cell_type": "markdown",
   "metadata": {},
   "source": [
    "# Graph 5: Expontential"
   ]
  },
  {
   "cell_type": "code",
   "execution_count": 38,
   "metadata": {},
   "outputs": [
    {
     "data": {
      "text/plain": [
       "<matplotlib.lines.Line2D at 0x56dcdd0>"
      ]
     },
     "execution_count": 38,
     "metadata": {},
     "output_type": "execute_result"
    },
    {
     "data": {
      "image/png": "[encoded data removed]",
      "text/plain": [
       "<Figure size 432x288 with 1 Axes>"
      ]
     },
     "metadata": {
      "needs_background": "light"
     },
     "output_type": "display_data"
    }
   ],
   "source": [
    "exponential = np.random.exponential(5, 100)\n",
    "plt.hist(exponential)\n",
    "plt.axvline(exponential.mean(),color='y', linestyle='solid', linewidth=1)\n",
    "plt.axvline(exponential.mean() + exponential.std(),color='y', linestyle='dashed', linewidth=1)\n",
    "plt.axvline(exponential.mean() - exponential.std(),color='y', linestyle='dashed', linewidth=1)"
   ]
  },
  {
   "cell_type": "code",
   "execution_count": 105,
   "metadata": {},
   "outputs": [
    {
     "name": "stdout",
     "output_type": "stream",
     "text": [
      "5.139592640208206\n",
      "4.716887285689875\n"
     ]
    }
   ],
   "source": [
    "print(np.mean(exponential))\n",
    "print(np.std(exponential))"
   ]
  },
  {
   "cell_type": "markdown",
   "metadata": {},
   "source": [
    "Brief Info: The expontential distribution generally represents the amount of time until a specific event occurs\n",
    "\n",
    "In this graph's case, the mean and standard deviation aren't very useful, as there is no central tendancy, the graph has a peak in the smaller values, and has a long tail curve outwards. "
   ]
  },
  {
   "cell_type": "markdown",
   "metadata": {},
   "source": [
    "# Graph 6: Uniform"
   ]
  },
  {
   "cell_type": "code",
   "execution_count": 98,
   "metadata": {},
   "outputs": [
    {
     "data": {
      "text/plain": [
       "<matplotlib.lines.Line2D at 0xe2b92b0>"
      ]
     },
     "execution_count": 98,
     "metadata": {},
     "output_type": "execute_result"
    },
    {
     "data": {
      "image/png": "[encoded data removed]",
      "text/plain": [
       "<Figure size 432x288 with 1 Axes>"
      ]
     },
     "metadata": {
      "needs_background": "light"
     },
     "output_type": "display_data"
    }
   ],
   "source": [
    "uniform = np.random.uniform(0, 5, 100)\n",
    "plt.hist(uniform)\n",
    "plt.axvline(uniform.mean(),color='y', linestyle='solid', linewidth=1)\n",
    "plt.axvline(uniform.mean() + uniform.std(),color='y', linestyle='dashed', linewidth=1)\n",
    "plt.axvline(uniform.mean() - uniform.std(),color='y', linestyle='dashed', linewidth=1)"
   ]
  },
  {
   "cell_type": "code",
   "execution_count": 100,
   "metadata": {},
   "outputs": [
    {
     "name": "stdout",
     "output_type": "stream",
     "text": [
      "2.570565737767046\n",
      "1.375043890185989\n"
     ]
    }
   ],
   "source": [
    "print(np.mean(uniform))\n",
    "print(np.std(uniform))"
   ]
  },
  {
   "cell_type": "markdown",
   "metadata": {},
   "source": [
    "Definition: distribution where all outcomes are equally likely \n",
    "\n",
    "The mean and standard distribution in this case isn't very useful. If we look at the liklyhood of our x values occurring, they're very similar to one another. Therefore, we can see values far from the mean rather frequently. However, anything outside of the 0-5 observations, we won't see any occurances. "
   ]
  },
  {
   "cell_type": "markdown",
   "metadata": {},
   "source": [
    "#  Final Graph: The sum of two normally-distributed variables "
   ]
  },
  {
   "cell_type": "code",
   "execution_count": 50,
   "metadata": {},
   "outputs": [
    {
     "data": {
      "text/plain": [
       "<matplotlib.lines.Line2D at 0xe063af0>"
      ]
     },
     "execution_count": 50,
     "metadata": {},
     "output_type": "execute_result"
    },
    {
     "data": {
      "image/png": "[encoded data removed]",
      "text/plain": [
       "<Figure size 432x288 with 1 Axes>"
      ]
     },
     "metadata": {
      "needs_background": "light"
     },
     "output_type": "display_data"
    }
   ],
   "source": [
    "rv1 = np.random.normal(5,.5,100)\n",
    "rv2 = np.random.normal(10,1,100)\n",
    "rv3 = (rv1 + rv2) \n",
    "plt.hist(rv3)\n",
    "plt.axvline(rv3.mean(),color='y', linestyle='solid', linewidth=1)\n",
    "plt.axvline(rv3.mean() + rv3.std(),color='y', linestyle='dashed', linewidth=1)\n",
    "plt.axvline(rv3.mean() - rv3.std(),color='y', linestyle='dashed', linewidth=1)"
   ]
  },
  {
   "cell_type": "code",
   "execution_count": 106,
   "metadata": {},
   "outputs": [
    {
     "name": "stdout",
     "output_type": "stream",
     "text": [
      "14.958572152112005\n",
      "1.1039138434749278\n"
     ]
    }
   ],
   "source": [
    "print(np.mean(rv3))\n",
    "print(np.std(rv3))"
   ]
  },
  {
   "cell_type": "markdown",
   "metadata": {},
   "source": [
    "The graph here still appears to represent a normal distribution, thus the mean and standard deviation prove useful information showcasing the central tenancy and the variance from the mean. "
   ]
  }
 ],
 "metadata": {
  "kernelspec": {
   "display_name": "Python 3",
   "language": "python",
   "name": "python3"
  },
  "language_info": {
   "codemirror_mode": {
    "name": "ipython",
    "version": 3
   },
   "file_extension": ".py",
   "mimetype": "text/x-python",
   "name": "python",
   "nbconvert_exporter": "python",
   "pygments_lexer": "ipython3",
   "version": "3.7.0"
  }
 },
 "nbformat": 4,
 "nbformat_minor": 2
}
